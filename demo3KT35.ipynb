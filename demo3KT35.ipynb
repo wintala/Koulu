{
  "nbformat": 4,
  "nbformat_minor": 0,
  "metadata": {
    "colab": {
      "name": "demo3KT35",
      "provenance": [],
      "authorship_tag": "ABX9TyOxAED5KymdoHe0vu7qY02+",
      "include_colab_link": true
    },
    "kernelspec": {
      "name": "python3",
      "display_name": "Python 3"
    }
  },
  "cells": [
    {
      "cell_type": "markdown",
      "metadata": {
        "id": "view-in-github",
        "colab_type": "text"
      },
      "source": [
        "<a href=\"https://colab.research.google.com/github/wintala/Koulu/blob/main/demo3KT35.ipynb\" target=\"_parent\"><img src=\"https://colab.research.google.com/assets/colab-badge.svg\" alt=\"Open In Colab\"/></a>"
      ]
    },
    {
      "cell_type": "code",
      "metadata": {
        "id": "wcT5ooZ5HXJc",
        "colab": {
          "base_uri": "https://localhost:8080/",
          "height": 229
        },
        "outputId": "00118bc3-85fe-4ad4-b0b6-bb1249777dc5"
      },
      "source": [
        "import pandas as pd\n",
        "from matplotlib import pyplot as plt\n",
        "import statistics as st\n",
        "from scipy import stats\n",
        "data = pd.read_csv(\"/content/CASchools.csv\")\n",
        "data.head()"
      ],
      "execution_count": 14,
      "outputs": [
        {
          "output_type": "stream",
          "text": [
            "/usr/local/lib/python3.6/dist-packages/statsmodels/tools/_testing.py:19: FutureWarning: pandas.util.testing is deprecated. Use the functions in the public API at pandas.testing instead.\n",
            "  import pandas.util.testing as tm\n"
          ],
          "name": "stderr"
        },
        {
          "output_type": "execute_result",
          "data": {
            "text/html": [
              "<div>\n",
              "<style scoped>\n",
              "    .dataframe tbody tr th:only-of-type {\n",
              "        vertical-align: middle;\n",
              "    }\n",
              "\n",
              "    .dataframe tbody tr th {\n",
              "        vertical-align: top;\n",
              "    }\n",
              "\n",
              "    .dataframe thead th {\n",
              "        text-align: right;\n",
              "    }\n",
              "</style>\n",
              "<table border=\"1\" class=\"dataframe\">\n",
              "  <thead>\n",
              "    <tr style=\"text-align: right;\">\n",
              "      <th></th>\n",
              "      <th>Unnamed: 0</th>\n",
              "      <th>district</th>\n",
              "      <th>school</th>\n",
              "      <th>county</th>\n",
              "      <th>grades</th>\n",
              "      <th>students</th>\n",
              "      <th>teachers</th>\n",
              "      <th>calworks</th>\n",
              "      <th>lunch</th>\n",
              "      <th>computer</th>\n",
              "      <th>expenditure</th>\n",
              "      <th>income</th>\n",
              "      <th>english</th>\n",
              "      <th>read</th>\n",
              "      <th>math</th>\n",
              "      <th>stratio</th>\n",
              "      <th>score</th>\n",
              "    </tr>\n",
              "  </thead>\n",
              "  <tbody>\n",
              "    <tr>\n",
              "      <th>0</th>\n",
              "      <td>1</td>\n",
              "      <td>75119</td>\n",
              "      <td>Sunol Glen Unified</td>\n",
              "      <td>Alameda</td>\n",
              "      <td>KK-08</td>\n",
              "      <td>195</td>\n",
              "      <td>10.900000</td>\n",
              "      <td>0.510200</td>\n",
              "      <td>2.040800</td>\n",
              "      <td>67</td>\n",
              "      <td>6384.911133</td>\n",
              "      <td>22.690001</td>\n",
              "      <td>0.000000</td>\n",
              "      <td>691.599976</td>\n",
              "      <td>690.000000</td>\n",
              "      <td>17.889909</td>\n",
              "      <td>690.799988</td>\n",
              "    </tr>\n",
              "    <tr>\n",
              "      <th>1</th>\n",
              "      <td>2</td>\n",
              "      <td>61499</td>\n",
              "      <td>Manzanita Elementary</td>\n",
              "      <td>Butte</td>\n",
              "      <td>KK-08</td>\n",
              "      <td>240</td>\n",
              "      <td>11.150000</td>\n",
              "      <td>15.416700</td>\n",
              "      <td>47.916698</td>\n",
              "      <td>101</td>\n",
              "      <td>5099.380859</td>\n",
              "      <td>9.824000</td>\n",
              "      <td>4.583333</td>\n",
              "      <td>660.500000</td>\n",
              "      <td>661.900024</td>\n",
              "      <td>21.524664</td>\n",
              "      <td>661.200012</td>\n",
              "    </tr>\n",
              "    <tr>\n",
              "      <th>2</th>\n",
              "      <td>3</td>\n",
              "      <td>61549</td>\n",
              "      <td>Thermalito Union Elementary</td>\n",
              "      <td>Butte</td>\n",
              "      <td>KK-08</td>\n",
              "      <td>1550</td>\n",
              "      <td>82.900002</td>\n",
              "      <td>55.032299</td>\n",
              "      <td>76.322601</td>\n",
              "      <td>169</td>\n",
              "      <td>5501.954590</td>\n",
              "      <td>8.978000</td>\n",
              "      <td>30.000002</td>\n",
              "      <td>636.299988</td>\n",
              "      <td>650.900024</td>\n",
              "      <td>18.697225</td>\n",
              "      <td>643.600006</td>\n",
              "    </tr>\n",
              "    <tr>\n",
              "      <th>3</th>\n",
              "      <td>4</td>\n",
              "      <td>61457</td>\n",
              "      <td>Golden Feather Union Elementary</td>\n",
              "      <td>Butte</td>\n",
              "      <td>KK-08</td>\n",
              "      <td>243</td>\n",
              "      <td>14.000000</td>\n",
              "      <td>36.475399</td>\n",
              "      <td>77.049202</td>\n",
              "      <td>85</td>\n",
              "      <td>7101.831055</td>\n",
              "      <td>8.978000</td>\n",
              "      <td>0.000000</td>\n",
              "      <td>651.900024</td>\n",
              "      <td>643.500000</td>\n",
              "      <td>17.357143</td>\n",
              "      <td>647.700012</td>\n",
              "    </tr>\n",
              "    <tr>\n",
              "      <th>4</th>\n",
              "      <td>5</td>\n",
              "      <td>61523</td>\n",
              "      <td>Palermo Union Elementary</td>\n",
              "      <td>Butte</td>\n",
              "      <td>KK-08</td>\n",
              "      <td>1335</td>\n",
              "      <td>71.500000</td>\n",
              "      <td>33.108601</td>\n",
              "      <td>78.427002</td>\n",
              "      <td>171</td>\n",
              "      <td>5235.987793</td>\n",
              "      <td>9.080333</td>\n",
              "      <td>13.857677</td>\n",
              "      <td>641.799988</td>\n",
              "      <td>639.900024</td>\n",
              "      <td>18.671329</td>\n",
              "      <td>640.850006</td>\n",
              "    </tr>\n",
              "  </tbody>\n",
              "</table>\n",
              "</div>"
            ],
            "text/plain": [
              "   Unnamed: 0  district  ...    stratio       score\n",
              "0           1     75119  ...  17.889909  690.799988\n",
              "1           2     61499  ...  21.524664  661.200012\n",
              "2           3     61549  ...  18.697225  643.600006\n",
              "3           4     61457  ...  17.357143  647.700012\n",
              "4           5     61523  ...  18.671329  640.850006\n",
              "\n",
              "[5 rows x 17 columns]"
            ]
          },
          "metadata": {
            "tags": []
          },
          "execution_count": 14
        }
      ]
    },
    {
      "cell_type": "markdown",
      "metadata": {
        "id": "WcknxvwMkDb5"
      },
      "source": [
        "## a)"
      ]
    },
    {
      "cell_type": "code",
      "metadata": {
        "id": "EteotqsgHd64",
        "colab": {
          "base_uri": "https://localhost:8080/",
          "height": 439
        },
        "outputId": "7bdbc175-4fe5-4d40-d429-a02f34035d42"
      },
      "source": [
        "def print_info(column):\n",
        "  series = data[column]\n",
        "  minval, maxval = min(series), max(series)\n",
        "  meanval = st.mean(series)\n",
        "  deviation = st.stdev(series)\n",
        "  print(column + \":\")\n",
        "  print(str(len(series)) + \" records\")\n",
        "  print(f\"Min: {minval}, Max: {maxval}, Mean: {meanval}, Std: {deviation}\\n\")\n",
        "\n",
        "\n",
        "print_info(\"expenditure\")\n",
        "print_info(\"income\")\n",
        "\n",
        "data.plot(kind=\"scatter\", x=\"income\", y=\"expenditure\")"
      ],
      "execution_count": 11,
      "outputs": [
        {
          "output_type": "stream",
          "text": [
            "expenditure:\n",
            "420 records\n",
            "Min: 3926.06958007812, Max: 7711.5068359375, Mean: 5312.407541038877, Std: 633.9370531095024\n",
            "\n",
            "income:\n",
            "420 records\n",
            "Min: 5.33500003814697, Max: 55.327999114990206, Mean: 15.316588053249179, Std: 7.225889763291426\n",
            "\n"
          ],
          "name": "stdout"
        },
        {
          "output_type": "execute_result",
          "data": {
            "text/plain": [
              "<matplotlib.axes._subplots.AxesSubplot at 0x7f7b6a96f898>"
            ]
          },
          "metadata": {
            "tags": []
          },
          "execution_count": 11
        },
        {
          "output_type": "display_data",
          "data": {
            "image/png": "[encoded data removed]",
            "text/plain": [
              "<Figure size 432x288 with 1 Axes>"
            ]
          },
          "metadata": {
            "tags": [],
            "needs_background": "light"
          }
        }
      ]
    },
    {
      "cell_type": "markdown",
      "metadata": {
        "id": "e796Z877mzv3"
      },
      "source": [
        "## b)"
      ]
    },
    {
      "cell_type": "code",
      "metadata": {
        "id": "77Ma5iaYgveV",
        "colab": {
          "base_uri": "https://localhost:8080/",
          "height": 0
        },
        "outputId": "0a37b163-aec9-449f-bfbc-dfbdca9d974b"
      },
      "source": [
        "income = data[\"income\"].values\n",
        "exp = data[\"expenditure\"].values\n",
        "\n",
        "slope, intercept, r_value, p_value, std_err = stats.linregress(income, exp)\n",
        "\n",
        "print(slope, intercept, r_value, p_value, std_err)\n",
        "print(slope - 1.96 * std_err, slope + 1.96 * std_err)"
      ],
      "execution_count": 13,
      "outputs": [
        {
          "output_type": "stream",
          "text": [
            "27.590147084165658 4889.820623822157 0.31448447508358623 4.285868368789327e-11 4.073362322475143\n",
            "19.606356932114377 35.573937236216935\n"
          ],
          "name": "stdout"
        }
      ]
    },
    {
      "cell_type": "markdown",
      "metadata": {
        "id": "X9SQu24CRmD8"
      },
      "source": [
        "Eli regressioksi muodostuu:  \n",
        "expendure = 4890 + 27.6 * income\n",
        "\n",
        "Luottamusväli B1:lle:  \n",
        "[19.6, 35.6]  \n",
        "eli voimme samalla hylätä nollahypoteesin"
      ]
    },
    {
      "cell_type": "markdown",
      "metadata": {
        "id": "wqG0F1LpUZUH"
      },
      "source": [
        "## c)\n",
        "Kun tulotaso kasvaa tuhannella dollarilla kasvavat oppilaskohtaiset menot keskimäärin 27.6 dollaria.  \n",
        "Tulotaso selittää noin kolmanneksen oppilasmenoissa havaittavasta vaihtelusta.  \n",
        "Mielestäni on luontevaa että rikkailla alueilla panostetaan enemmän rahaa opillasta kohden.\n",
        "\n",
        "## d)\n",
        "Mikäli aineisto on valittu satunnaisesti toteutuvat PNS-oletukset 1 ja 2. Kolmanne toteutumisen näemme datasta koska neljännet momentit ovat ääreellisiä\n",
        "\n",
        "## e)\n",
        "Heteroskedastisessa jakumassa virhetermin varianssi riippuu selittävän muuttujan arvosta ja homoskedastisessa jakaumassa ei riipu. \n",
        "\n",
        "a-kohdan sirontakuviota katsoessa huomaa pisteiden olevan enemmän hajallaan suuremmilla tulotasoilla eli jakauma on heteroskedastinen"
      ]
    },
    {
      "cell_type": "code",
      "metadata": {
        "colab": {
          "base_uri": "https://localhost:8080/"
        },
        "id": "p9ZUV0NrXyrj",
        "outputId": "ff118d61-73c6-4b5d-fcfe-65ecaf579019"
      },
      "source": [
        "slope, intercept, *_ = stats.mstats.theilslopes(exp, income)\n",
        "print(slope, intercept)\n"
      ],
      "execution_count": 30,
      "outputs": [
        {
          "output_type": "stream",
          "text": [
            "12.946050977041406 5036.795804352536\n"
          ],
          "name": "stdout"
        }
      ]
    },
    {
      "cell_type": "markdown",
      "metadata": {
        "id": "jHPT_O8ie-_E"
      },
      "source": [
        "Robustissa jakaumassa B0 on suurempi ja kulmakerroin pienenmpi. Ilmeisesti \"ei-robustin\" regression kulmakerrointa suurensi tulotason loppupään suuuret outlierit"
      ]
    }
  ]
}