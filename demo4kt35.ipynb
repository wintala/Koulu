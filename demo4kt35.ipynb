{
 "cells": [
  {
   "cell_type": "code",
   "execution_count": 79,
   "metadata": {
    "scrolled": true
   },
   "outputs": [
    {
     "data": {
      "text/plain": [
       "\n",
       "Call:\n",
       "lm(formula = birthweight ~ alcohol, data = data)\n",
       "\n",
       "Residuals:\n",
       "    Min      1Q  Median      3Q     Max \n",
       "-2960.7  -323.7    44.3   374.3  3462.3 \n",
       "\n",
       "Coefficients:\n",
       "            Estimate Std. Error t value Pr(>|t|)    \n",
       "(Intercept)  3385.70      10.99  308.03   <2e-16 ***\n",
       "alcohol      -144.65      79.05   -1.83   0.0674 .  \n",
       "---\n",
       "Signif. codes:  0 '***' 0.001 '**' 0.01 '*' 0.05 '.' 0.1 ' ' 1\n",
       "\n",
       "Residual standard error: 596.2 on 2998 degrees of freedom\n",
       "Multiple R-squared:  0.001116,\tAdjusted R-squared:  0.0007823 \n",
       "F-statistic: 3.348 on 1 and 2998 DF,  p-value: 0.06738\n"
      ]
     },
     "metadata": {},
     "output_type": "display_data"
    }
   ],
   "source": [
    "library(car)\n",
    "library(lmtest)\n",
    "library(sandwich)\n",
    "data = read.csv('C:/Users/rinta/koulu/birthweight.csv', sep=\";\")\n",
    "\n",
    "model = lm(birthweight ~ alcohol, data=data)\n",
    "summary(model)"
   ]
  },
  {
   "cell_type": "markdown",
   "metadata": {},
   "source": [
    "## A)\n",
    "Raskausaikana alkoholia käyttävät naiset saavat arviolta 144 grammaa kevyempiä lapsia kuin alkoholia käyttämättömät. Keskimääräinen virhe on noin 80 grammaa ja selitysaste vain 0.1%. On syytä huomata ettei tulos pokkea nollasta 95% merkitsevyystasolla.\n"
   ]
  },
  {
   "cell_type": "code",
   "execution_count": 80,
   "metadata": {},
   "outputs": [
    {
     "data": {
      "text/plain": [
       "\n",
       "Call:\n",
       "lm(formula = birthweight ~ alcohol + educ, data = data)\n",
       "\n",
       "Residuals:\n",
       "    Min      1Q  Median      3Q     Max \n",
       "-2959.9  -315.4    32.8   365.0  3425.0 \n",
       "\n",
       "Coefficients:\n",
       "            Estimate Std. Error t value Pr(>|t|)    \n",
       "(Intercept) 3268.151     65.914  49.582   <2e-16 ***\n",
       "alcohol     -145.336     79.022  -1.839   0.0660 .  \n",
       "educ           9.107      5.035   1.809   0.0706 .  \n",
       "---\n",
       "Signif. codes:  0 '***' 0.001 '**' 0.01 '*' 0.05 '.' 0.1 ' ' 1\n",
       "\n",
       "Residual standard error: 596 on 2997 degrees of freedom\n",
       "Multiple R-squared:  0.002205,\tAdjusted R-squared:  0.001539 \n",
       "F-statistic: 3.311 on 2 and 2997 DF,  p-value: 0.03662\n"
      ]
     },
     "metadata": {},
     "output_type": "display_data"
    }
   ],
   "source": [
    "model2 = lm(birthweight ~ alcohol + educ, data=data)\n",
    "summary(model2)"
   ]
  },
  {
   "cell_type": "markdown",
   "metadata": {},
   "source": [
    "## B)\n",
    "Vakio pienenee, mikä merkitsee että vähän koulutetut ja alkoholia käyttävät naiset saavat kevyempiä lapsia kuin mitä kaikkien alkoholia käyttävien naisten keskiarvo on. Saman voi päättellä myös koulutustason positiivisesta kertoimesta, joka merkitsee koulutusvuosien nostavan lapsen painoa (9g per vuosi). Molempien mertoimien p-arvo on matala eikä tilastollisesti merkitsevä ja mallin selitysaste on yhä alhainen."
   ]
  },
  {
   "cell_type": "code",
   "execution_count": 81,
   "metadata": {},
   "outputs": [
    {
     "data": {
      "image/png": "[encoded data removed]",
      "text/plain": [
       "plot without title"
      ]
     },
     "metadata": {},
     "output_type": "display_data"
    },
    {
     "data": {
      "image/png": "[encoded data removed]",
      "text/plain": [
       "plot without title"
      ]
     },
     "metadata": {},
     "output_type": "display_data"
    }
   ],
   "source": [
    "plot(data[,\"alcohol\"],data[,\"birthweight\"],\n",
    "   xlab=\"Alcohol\", ylab=\"weight\")\n",
    "\n",
    "plot(data[,\"educ\"],data[,\"birthweight\"],\n",
    "   xlab=\"Education\", ylab=\"weight\")"
   ]
  },
  {
   "cell_type": "markdown",
   "metadata": {},
   "source": [
    "## C)\n",
    "Havaintoja:\n",
    "- yksi kevyt täysin kouluttautumattomalla äidillä sekä yksi todella painava laspi alkoholia käyttämättömällä ja todella koulutetulla äidillä. Selkeät outlier -> voi vääristää kertoimia\n",
    "- näyttää liki homoskedastiselta\n"
   ]
  },
  {
   "cell_type": "code",
   "execution_count": 70,
   "metadata": {},
   "outputs": [
    {
     "data": {
      "text/plain": [
       "\n",
       "t test of coefficients:\n",
       "\n",
       "             Estimate Std. Error t value Pr(>|t|)    \n",
       "(Intercept) 3297.6111    65.3436 50.4657  < 2e-16 ***\n",
       "alcohol     -144.4824    81.8224 -1.7658  0.07753 .  \n",
       "educ           6.7723     5.0309  1.3461  0.17836    \n",
       "---\n",
       "Signif. codes:  0 '***' 0.001 '**' 0.01 '*' 0.05 '.' 0.1 ' ' 1\n"
      ]
     },
     "metadata": {},
     "output_type": "display_data"
    }
   ],
   "source": [
    "cleaned = filter(data, birthweight < 6500, educ > 4)\n",
    "cleaned_model = lm(birthweight ~ alcohol + educ, data=cleaned)\n",
    "coeftest(cleaned_model, vcov = vcovHC(cleaned_model, type=\"HC1\"))\n",
    "\n"
   ]
  },
  {
   "cell_type": "markdown",
   "metadata": {},
   "source": [
    "## D)\n",
    "Kun outlierit poistetaan ja tehdään robusti regressio, nähdään että koulutuksen vaikutus vähenee puolella ja sen p arvo on kaukana tilastollisesta merkitsevyydestä. Myös keskivirheet kasvavat.\n"
   ]
  },
  {
   "cell_type": "code",
   "execution_count": 82,
   "metadata": {},
   "outputs": [
    {
     "data": {
      "text/html": [
       "<table>\n",
       "<thead><tr><th scope=col>Res.Df</th><th scope=col>Df</th><th scope=col>F</th><th scope=col>Pr(&gt;F)</th></tr></thead>\n",
       "<tbody>\n",
       "\t<tr><td>2997      </td><td>NA        </td><td>      NA  </td><td>        NA</td></tr>\n",
       "\t<tr><td>2995      </td><td> 2        </td><td>2.462623  </td><td>0.08538365</td></tr>\n",
       "</tbody>\n",
       "</table>\n"
      ],
      "text/latex": [
       "\\begin{tabular}{r|llll}\n",
       " Res.Df & Df & F & Pr(>F)\\\\\n",
       "\\hline\n",
       "\t 2997       & NA         &       NA   &         NA\\\\\n",
       "\t 2995       &  2         & 2.462623   & 0.08538365\\\\\n",
       "\\end{tabular}\n"
      ],
      "text/markdown": [
       "\n",
       "| Res.Df | Df | F | Pr(>F) |\n",
       "|---|---|---|---|\n",
       "| 2997       | NA         |       NA   |         NA |\n",
       "| 2995       |  2         | 2.462623   | 0.08538365 |\n",
       "\n"
      ],
      "text/plain": [
       "  Res.Df Df F        Pr(>F)    \n",
       "1 2997   NA       NA         NA\n",
       "2 2995    2 2.462623 0.08538365"
      ]
     },
     "metadata": {},
     "output_type": "display_data"
    }
   ],
   "source": [
    "linearHypothesis(cleaned_model, c(\"alcohol=0\", \"educ=0\"), test=c(\"F\"),vcov = vcovHC(cleaned_model, type=\"HC1\"))"
   ]
  },
  {
   "cell_type": "markdown",
   "metadata": {},
   "source": [
    "Kriittinen arvo olisi 3 joten nollahypoteesia ei voida hylätä"
   ]
  },
  {
   "cell_type": "code",
   "execution_count": 84,
   "metadata": {},
   "outputs": [
    {
     "data": {
      "text/plain": [
       "\n",
       "Call:\n",
       "lm(formula = birthweight ~ alcohol + educ + nprevist, data = cleaned)\n",
       "\n",
       "Residuals:\n",
       "     Min       1Q   Median       3Q      Max \n",
       "-2694.35  -304.87    30.32   368.92  2229.94 \n",
       "\n",
       "Coefficients:\n",
       "            Estimate Std. Error t value Pr(>|t|)    \n",
       "(Intercept) 2898.669     71.458  40.565   <2e-16 ***\n",
       "alcohol     -102.963     76.569  -1.345    0.179    \n",
       "educ           6.456      4.907   1.316    0.188    \n",
       "nprevist      36.594      2.872  12.743   <2e-16 ***\n",
       "---\n",
       "Signif. codes:  0 '***' 0.001 '**' 0.01 '*' 0.05 '.' 0.1 ' ' 1\n",
       "\n",
       "Residual standard error: 576.9 on 2994 degrees of freedom\n",
       "Multiple R-squared:  0.05308,\tAdjusted R-squared:  0.05213 \n",
       "F-statistic: 55.95 on 3 and 2994 DF,  p-value: < 2.2e-16\n"
      ]
     },
     "metadata": {},
     "output_type": "display_data"
    }
   ],
   "source": [
    "model2 = lm(birthweight ~ alcohol + educ + nprevist, data=cleaned)\n",
    "summary(model2)"
   ]
  },
  {
   "cell_type": "markdown",
   "metadata": {},
   "source": [
    "## E)\n",
    "Lääkärikäyntien lisäys teki mallin selitysasteesta moninkeratisesti paremman. Käyntien lukumäärän kertoimen p arvo on pieni ja käyntien määrä onkin taatusti tilastollisesti merkittävä estimaattori. Alkoholin merkitys väheni enstisestään mikä kertoo alkoholin ja lääkärikäyntien korrelaatiosta keskenään. "
   ]
  },
  {
   "cell_type": "code",
   "execution_count": 85,
   "metadata": {},
   "outputs": [
    {
     "data": {
      "text/html": [
       "<table>\n",
       "<thead><tr><th scope=col>Res.Df</th><th scope=col>Df</th><th scope=col>F</th><th scope=col>Pr(&gt;F)</th></tr></thead>\n",
       "<tbody>\n",
       "\t<tr><td>2996     </td><td>NA       </td><td>      NA </td><td>       NA</td></tr>\n",
       "\t<tr><td>2994     </td><td> 2       </td><td>1.782351 </td><td>0.1684206</td></tr>\n",
       "</tbody>\n",
       "</table>\n"
      ],
      "text/latex": [
       "\\begin{tabular}{r|llll}\n",
       " Res.Df & Df & F & Pr(>F)\\\\\n",
       "\\hline\n",
       "\t 2996      & NA        &       NA  &        NA\\\\\n",
       "\t 2994      &  2        & 1.782351  & 0.1684206\\\\\n",
       "\\end{tabular}\n"
      ],
      "text/markdown": [
       "\n",
       "| Res.Df | Df | F | Pr(>F) |\n",
       "|---|---|---|---|\n",
       "| 2996      | NA        |       NA  |        NA |\n",
       "| 2994      |  2        | 1.782351  | 0.1684206 |\n",
       "\n"
      ],
      "text/plain": [
       "  Res.Df Df F        Pr(>F)   \n",
       "1 2996   NA       NA        NA\n",
       "2 2994    2 1.782351 0.1684206"
      ]
     },
     "metadata": {},
     "output_type": "display_data"
    }
   ],
   "source": [
    "linearHypothesis(model2, c(\"alcohol=0\", \"educ=0\"), test=c(\"F\"),vcov = vcovHC(model2, type=\"HC1\"))"
   ]
  },
  {
   "cell_type": "code",
   "execution_count": null,
   "metadata": {},
   "outputs": [],
   "source": [
    "Nolla hypoteesia ei voida taaskaan hylätä. Testi antaa entistä huonomman tuloksen. \n",
    "Aakoholin ja koulutuksen vaikutusta ei voida pitää merkittävinä estimaattoreina ja \n",
    "täten malli jossa painoa arvoidaan pelkällä alkohollilla ja koulutuksella ei voida pitää luotetavana"
   ]
  }
 ],
 "metadata": {
  "kernelspec": {
   "display_name": "R",
   "language": "R",
   "name": "ir"
  },
  "language_info": {
   "codemirror_mode": "r",
   "file_extension": ".r",
   "mimetype": "text/x-r-source",
   "name": "R",
   "pygments_lexer": "r",
   "version": "3.6.1"
  }
 },
 "nbformat": 4,
 "nbformat_minor": 4
}
