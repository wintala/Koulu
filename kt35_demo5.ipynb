{
 "cells": [
  {
   "cell_type": "markdown",
   "metadata": {},
   "source": [
    "# 1 a)\n",
    "### PisaTulos = B0 + B1 * pienKuin20 + B2 * suurKuin25 + B3 * luokkaKoko + B4 * pienKuin20 * luokkaKoko + B5 * suurKuin25 * luokkaKoko\n",
    "\n",
    "Oheisessa mallissa siis parametreina kaksi dummy-muuttujaa, luokkakoko \"jatkuvana\" ja näiden interaktiotermit. Mahdollista olisi myös jättää viimeiset kolme termiä pois ja sisällyttää pelkät dummy-muuttujat ja vakio. \n",
    "\n",
    "Jos haluttaisiin yleiseimpi kuvaus voitaisiin myös käyttää mallia jossa on luokkako ja sen kokreampia potensseja. \n",
    "# b) ja c)\n",
    "B0 on perustaso normaalikokoisessa (20-25) luokassa, B1 on positiivinen ja B2 negatiivinen. B3, B4 ja B5 ovat kaikki nollia sillä luokkakoon vaikutus muuttuu ainostaan ryhmästä toiseen siirrytäessä ja ryhmän sisällä luokkakoon kulmakerroin on nolla.  \n",
    "Malli siis tuottaa kolme regressiosuoraa joiden vakiot ovat eri suuruisia ja kulmakertoimet kaikissa nolla. Testeiksi kävisi siis testit joissa oletetaan B1 ja B2 poikkeavan nollasta sekä testaus hypoteesille jossa B3-5 ovat nollia. \n",
    "  \n",
    "Pelkkien dummy-muuttujien mallissa B0, B1 ja B2 olisivat tiestysi samat, tällöin mallin oikeellisutta voisi mitata katsommalla keskivirheitä joiden tulisi olla nollia vanhempien hypoteesin mukaan.  \n",
    "  \n",
    "Malissa jossa on luokkakoko ja sen korkeammat potenssit, tulisi testata korkeampien termien merkitsevyyttä epälineaarisuuden toteamiseksi.\n",
    "  \n",
    "\n"
   ]
  },
  {
   "cell_type": "code",
   "execution_count": 4,
   "metadata": {},
   "outputs": [
    {
     "name": "stderr",
     "output_type": "stream",
     "text": [
      "Warning message in summary.lm(model):\n",
      "\"essentially perfect fit: summary may be unreliable\"\n"
     ]
    },
    {
     "data": {
      "text/plain": [
       "\n",
       "Call:\n",
       "lm(formula = Score ~ gt25 + lt20, data = df)\n",
       "\n",
       "Residuals:\n",
       "       Min         1Q     Median         3Q        Max \n",
       "-6.011e-15  0.000e+00  0.000e+00  5.992e-16  9.881e-16 \n",
       "\n",
       "Coefficients:\n",
       "              Estimate Std. Error    t value Pr(>|t|)    \n",
       "(Intercept)  2.000e+00  3.864e-16  5.176e+15   <2e-16 ***\n",
       "gt25        -1.000e+00  5.464e-16 -1.830e+15   <2e-16 ***\n",
       "lt20         1.000e+00  5.464e-16  1.830e+15   <2e-16 ***\n",
       "---\n",
       "Signif. codes:  0 '***' 0.001 '**' 0.01 '*' 0.05 '.' 0.1 ' ' 1\n",
       "\n",
       "Residual standard error: 1.222e-15 on 27 degrees of freedom\n",
       "Multiple R-squared:      1,\tAdjusted R-squared:      1 \n",
       "F-statistic: 6.698e+30 on 2 and 27 DF,  p-value: < 2.2e-16\n"
      ]
     },
     "metadata": {},
     "output_type": "display_data"
    },
    {
     "data": {
      "image/png": "[encoded data removed]",
      "text/plain": [
       "plot without title"
      ]
     },
     "metadata": {
      "image/png": {
       "height": 420,
       "width": 420
      }
     },
     "output_type": "display_data"
    }
   ],
   "source": [
    "group_size = 10\n",
    "Size = c(floor(runif(group_size, min=10, max=20)), floor(runif(group_size, min=20, max=26)), floor(runif(group_size, min=26, max=35)))\n",
    "Score = c(rep(3, group_size), rep(2, group_size), rep(1, group_size))\n",
    "gt25 = ifelse(Size > 25, 1, 0)\n",
    "lt20 = ifelse(Size < 20, 1, 0)\n",
    "\n",
    "df = data.frame(Size, Score, gt25, lt20)\n",
    "\n",
    "plot(df[,\"Size\"],df[,\"Score\"],\n",
    "   xlab=\"Koko\", ylab=\"Pisa Tulos\")\n",
    "\n",
    "# testataan pelkkien dummyjen mallia\n",
    "model = lm(Score ~ gt25 + lt20, data=df)\n",
    "summary(model)"
   ]
  },
  {
   "cell_type": "markdown",
   "metadata": {},
   "source": [
    "# 2 a) ja b)\n",
    "### B0 + B1 * vanhaIT + B2 * luokkaKoko + B3 * vanhaIT * luokkaKoko\n",
    "\n",
    "Nyt B1 kuvaa eroa uuden ja vanhan tietotekniikan hyödyntäjien välillä teoreettisessa tilanteessa, jossa luokkakoko on nolla. B3 kuvaa eroa luokkakoon vaikuttavuudessa ryhmien välillä. Näiden molempien tulisi hypoteesin mukaan olla nollasta poikkeavia ja negatiivisia. Tätä hypoteesia tulisi testata kertoimien yhteistestillä. \n",
    "# c)\n",
    "Olisi luontevaa ajatella että sekä tietotekniikalla että luokkakoolla olisi epälineearinen yhteys tuloksiin. Siirtyminen todella vanhasta (ja kenties huonosti toimivasta) tekniikasta edes vähän uudempaan suuntaan luultavasti tuo suuremman hyödyn kuin melko uudesta tekniikasta täysin uuteen siirrytäessä. Eli vaikutus siis vähenee mitä uudeempaa tekniikka on valmiiksi.   \n",
    "Myös luokkakoossa esimerkiksi siirtyminen kuudestatoista oppilaasta seistsemääntoista luultavasti vaikuttaa enemmän kuin siirtymä 28 -> 29. Logaritminen yhteys voisi tulla kyseeseen molemmissa tapauksissa. \n",
    "# d)\n",
    "Sisäinen: Mittavirheitä tai valikoitumista tuskin tapahtuu sillä data tuloksista ja luokkakoista on luotettavaa ja helposti saatavilla kaikista kouluista. Simultaanisen kausaalisuuden harha on mahdollinen sillä luokkakoja on saatettu pienentää juuri luokan heikon suoriutumisen takia. Myös puuttuvat selittäjät ovat mahdollisia, esim koulun budjetti/oppilas korreloi luultavsti vahvasti IT-laitteiden tason ja ryhmäkokojen kanssa ja vaikuttaa muillakin tavoin oppimistuloksiin. \n",
    "***\n",
    "Ulkoinen: Ulkoisen validiteetin ongelmaa ei tulisi olla kun aineisto on kerätty samasta populaatiosta kuin mihin sitä aiotaan soveltaa. Toki on mahdollista että malilla on eri ajanhetkien välillä on eroja. Esim viisi vuotta sitten kerätty aineisto ei enää kuvaisi hyvin tämän päivän luokkia, kenties digitalisaatio on vähentänyt luokkakoon merkitystä tai jotain vastaavaa."
   ]
  },
  {
   "cell_type": "code",
   "execution_count": 2,
   "metadata": {},
   "outputs": [
    {
     "data": {
      "text/html": [
       "<table>\n",
       "<caption>A data.frame: 6 × 22</caption>\n",
       "<thead>\n",
       "\t<tr><th></th><th scope=col>X</th><th scope=col>age</th><th scope=col>city</th><th scope=col>educ</th><th scope=col>exper</th><th scope=col>expersq</th><th scope=col>faminc</th><th scope=col>fatheduc</th><th scope=col>hours</th><th scope=col>husage</th><th scope=col>...</th><th scope=col>huswage</th><th scope=col>kidsge6</th><th scope=col>kidslt6</th><th scope=col>lwage</th><th scope=col>motheduc</th><th scope=col>mtr_fed</th><th scope=col>nwifeinc</th><th scope=col>repwage</th><th scope=col>unem</th><th scope=col>wage</th></tr>\n",
       "\t<tr><th></th><th scope=col>&lt;int&gt;</th><th scope=col>&lt;int&gt;</th><th scope=col>&lt;int&gt;</th><th scope=col>&lt;int&gt;</th><th scope=col>&lt;int&gt;</th><th scope=col>&lt;int&gt;</th><th scope=col>&lt;int&gt;</th><th scope=col>&lt;int&gt;</th><th scope=col>&lt;int&gt;</th><th scope=col>&lt;int&gt;</th><th scope=col>...</th><th scope=col>&lt;dbl&gt;</th><th scope=col>&lt;int&gt;</th><th scope=col>&lt;int&gt;</th><th scope=col>&lt;dbl&gt;</th><th scope=col>&lt;int&gt;</th><th scope=col>&lt;dbl&gt;</th><th scope=col>&lt;dbl&gt;</th><th scope=col>&lt;dbl&gt;</th><th scope=col>&lt;dbl&gt;</th><th scope=col>&lt;dbl&gt;</th></tr>\n",
       "</thead>\n",
       "<tbody>\n",
       "\t<tr><th scope=row>1</th><td>1</td><td>32</td><td>0</td><td>12</td><td>14</td><td> 196</td><td>16310</td><td> 7</td><td>1610</td><td>34</td><td>...</td><td> 4.0288</td><td>0</td><td>1</td><td>1.2101540</td><td>12</td><td>0.7215</td><td>10.910060</td><td>2.65</td><td> 5.0</td><td>3.3540</td></tr>\n",
       "\t<tr><th scope=row>2</th><td>2</td><td>30</td><td>1</td><td>12</td><td> 5</td><td>  25</td><td>21800</td><td> 7</td><td>1656</td><td>30</td><td>...</td><td> 8.4416</td><td>2</td><td>0</td><td>0.3285121</td><td> 7</td><td>0.6615</td><td>19.499980</td><td>2.65</td><td>11.0</td><td>1.3889</td></tr>\n",
       "\t<tr><th scope=row>3</th><td>3</td><td>35</td><td>0</td><td>12</td><td>15</td><td> 225</td><td>21040</td><td> 7</td><td>1980</td><td>40</td><td>...</td><td> 3.5807</td><td>3</td><td>1</td><td>1.5141380</td><td>12</td><td>0.6915</td><td>12.039910</td><td>4.04</td><td> 5.0</td><td>4.5455</td></tr>\n",
       "\t<tr><th scope=row>4</th><td>4</td><td>34</td><td>0</td><td>12</td><td> 6</td><td>  36</td><td> 7300</td><td> 7</td><td> 456</td><td>53</td><td>...</td><td> 3.5417</td><td>3</td><td>0</td><td>0.0921233</td><td> 7</td><td>0.7815</td><td> 6.799996</td><td>3.25</td><td> 5.0</td><td>1.0965</td></tr>\n",
       "\t<tr><th scope=row>5</th><td>5</td><td>31</td><td>1</td><td>14</td><td> 7</td><td>  49</td><td>27300</td><td>14</td><td>1568</td><td>32</td><td>...</td><td>10.0000</td><td>2</td><td>1</td><td>1.5242720</td><td>12</td><td>0.6215</td><td>20.100060</td><td>3.60</td><td> 9.5</td><td>4.5918</td></tr>\n",
       "\t<tr><th scope=row>6</th><td>6</td><td>54</td><td>1</td><td>12</td><td>33</td><td>1089</td><td>19495</td><td> 7</td><td>2032</td><td>57</td><td>...</td><td> 6.7106</td><td>0</td><td>0</td><td>1.5564800</td><td>14</td><td>0.6915</td><td> 9.859054</td><td>4.70</td><td> 7.5</td><td>4.7421</td></tr>\n",
       "</tbody>\n",
       "</table>\n"
      ],
      "text/latex": [
       "A data.frame: 6 × 22\n",
       "\\begin{tabular}{r|lllllllllllllllllllll}\n",
       "  & X & age & city & educ & exper & expersq & faminc & fatheduc & hours & husage & ... & huswage & kidsge6 & kidslt6 & lwage & motheduc & mtr\\_fed & nwifeinc & repwage & unem & wage\\\\\n",
       "  & <int> & <int> & <int> & <int> & <int> & <int> & <int> & <int> & <int> & <int> & ... & <dbl> & <int> & <int> & <dbl> & <int> & <dbl> & <dbl> & <dbl> & <dbl> & <dbl>\\\\\n",
       "\\hline\n",
       "\t1 & 1 & 32 & 0 & 12 & 14 &  196 & 16310 &  7 & 1610 & 34 & ... &  4.0288 & 0 & 1 & 1.2101540 & 12 & 0.7215 & 10.910060 & 2.65 &  5.0 & 3.3540\\\\\n",
       "\t2 & 2 & 30 & 1 & 12 &  5 &   25 & 21800 &  7 & 1656 & 30 & ... &  8.4416 & 2 & 0 & 0.3285121 &  7 & 0.6615 & 19.499980 & 2.65 & 11.0 & 1.3889\\\\\n",
       "\t3 & 3 & 35 & 0 & 12 & 15 &  225 & 21040 &  7 & 1980 & 40 & ... &  3.5807 & 3 & 1 & 1.5141380 & 12 & 0.6915 & 12.039910 & 4.04 &  5.0 & 4.5455\\\\\n",
       "\t4 & 4 & 34 & 0 & 12 &  6 &   36 &  7300 &  7 &  456 & 53 & ... &  3.5417 & 3 & 0 & 0.0921233 &  7 & 0.7815 &  6.799996 & 3.25 &  5.0 & 1.0965\\\\\n",
       "\t5 & 5 & 31 & 1 & 14 &  7 &   49 & 27300 & 14 & 1568 & 32 & ... & 10.0000 & 2 & 1 & 1.5242720 & 12 & 0.6215 & 20.100060 & 3.60 &  9.5 & 4.5918\\\\\n",
       "\t6 & 6 & 54 & 1 & 12 & 33 & 1089 & 19495 &  7 & 2032 & 57 & ... &  6.7106 & 0 & 0 & 1.5564800 & 14 & 0.6915 &  9.859054 & 4.70 &  7.5 & 4.7421\\\\\n",
       "\\end{tabular}\n"
      ],
      "text/markdown": [
       "\n",
       "A data.frame: 6 × 22\n",
       "\n",
       "| <!--/--> | X &lt;int&gt; | age &lt;int&gt; | city &lt;int&gt; | educ &lt;int&gt; | exper &lt;int&gt; | expersq &lt;int&gt; | faminc &lt;int&gt; | fatheduc &lt;int&gt; | hours &lt;int&gt; | husage &lt;int&gt; | ... ... | huswage &lt;dbl&gt; | kidsge6 &lt;int&gt; | kidslt6 &lt;int&gt; | lwage &lt;dbl&gt; | motheduc &lt;int&gt; | mtr_fed &lt;dbl&gt; | nwifeinc &lt;dbl&gt; | repwage &lt;dbl&gt; | unem &lt;dbl&gt; | wage &lt;dbl&gt; |\n",
       "|---|---|---|---|---|---|---|---|---|---|---|---|---|---|---|---|---|---|---|---|---|---|\n",
       "| 1 | 1 | 32 | 0 | 12 | 14 |  196 | 16310 |  7 | 1610 | 34 | ... |  4.0288 | 0 | 1 | 1.2101540 | 12 | 0.7215 | 10.910060 | 2.65 |  5.0 | 3.3540 |\n",
       "| 2 | 2 | 30 | 1 | 12 |  5 |   25 | 21800 |  7 | 1656 | 30 | ... |  8.4416 | 2 | 0 | 0.3285121 |  7 | 0.6615 | 19.499980 | 2.65 | 11.0 | 1.3889 |\n",
       "| 3 | 3 | 35 | 0 | 12 | 15 |  225 | 21040 |  7 | 1980 | 40 | ... |  3.5807 | 3 | 1 | 1.5141380 | 12 | 0.6915 | 12.039910 | 4.04 |  5.0 | 4.5455 |\n",
       "| 4 | 4 | 34 | 0 | 12 |  6 |   36 |  7300 |  7 |  456 | 53 | ... |  3.5417 | 3 | 0 | 0.0921233 |  7 | 0.7815 |  6.799996 | 3.25 |  5.0 | 1.0965 |\n",
       "| 5 | 5 | 31 | 1 | 14 |  7 |   49 | 27300 | 14 | 1568 | 32 | ... | 10.0000 | 2 | 1 | 1.5242720 | 12 | 0.6215 | 20.100060 | 3.60 |  9.5 | 4.5918 |\n",
       "| 6 | 6 | 54 | 1 | 12 | 33 | 1089 | 19495 |  7 | 2032 | 57 | ... |  6.7106 | 0 | 0 | 1.5564800 | 14 | 0.6915 |  9.859054 | 4.70 |  7.5 | 4.7421 |\n",
       "\n"
      ],
      "text/plain": [
       "  X age city educ exper expersq faminc fatheduc hours husage ... huswage\n",
       "1 1 32  0    12   14     196    16310   7       1610  34     ...  4.0288\n",
       "2 2 30  1    12    5      25    21800   7       1656  30     ...  8.4416\n",
       "3 3 35  0    12   15     225    21040   7       1980  40     ...  3.5807\n",
       "4 4 34  0    12    6      36     7300   7        456  53     ...  3.5417\n",
       "5 5 31  1    14    7      49    27300  14       1568  32     ... 10.0000\n",
       "6 6 54  1    12   33    1089    19495   7       2032  57     ...  6.7106\n",
       "  kidsge6 kidslt6 lwage     motheduc mtr_fed nwifeinc  repwage unem wage  \n",
       "1 0       1       1.2101540 12       0.7215  10.910060 2.65     5.0 3.3540\n",
       "2 2       0       0.3285121  7       0.6615  19.499980 2.65    11.0 1.3889\n",
       "3 3       1       1.5141380 12       0.6915  12.039910 4.04     5.0 4.5455\n",
       "4 3       0       0.0921233  7       0.7815   6.799996 3.25     5.0 1.0965\n",
       "5 2       1       1.5242720 12       0.6215  20.100060 3.60     9.5 4.5918\n",
       "6 0       0       1.5564800 14       0.6915   9.859054 4.70     7.5 4.7421"
      ]
     },
     "metadata": {},
     "output_type": "display_data"
    }
   ],
   "source": [
    "library(lmtest)\n",
    "library(sandwich)\n",
    "library(car)\n",
    "data = read.csv('C:/Users/rinta/koulu/mroz-mod.csv', sep=\";\")\n",
    "head(data)"
   ]
  },
  {
   "cell_type": "markdown",
   "metadata": {},
   "source": [
    "# 3 a)"
   ]
  },
  {
   "cell_type": "code",
   "execution_count": 19,
   "metadata": {},
   "outputs": [
    {
     "data": {
      "image/png": "[encoded data removed]",
      "text/plain": [
       "plot without title"
      ]
     },
     "metadata": {
      "image/png": {
       "height": 420,
       "width": 420
      }
     },
     "output_type": "display_data"
    }
   ],
   "source": [
    "plot(data[,\"wage\"],data[,\"hours\"],\n",
    "   xlab=\"wage\", ylab=\"hours\")"
   ]
  },
  {
   "cell_type": "markdown",
   "metadata": {},
   "source": [
    "Vaikea sanoa, näyttää ehkä eniten siltä että palkan kasvaessa työtunnit vähenevät hieman.\n",
    "Suuri hajonta vaikeuttaa lineaarisuuden tarkastelua.  \n",
    "Muutamia selkeästi poikkeavia havaintoja: valtavia tuntimääriä pienillä palkoilla mutta myös suuria palkkoja erittäin pienillä tunneilla."
   ]
  },
  {
   "cell_type": "markdown",
   "metadata": {},
   "source": [
    "# b)"
   ]
  },
  {
   "cell_type": "code",
   "execution_count": 21,
   "metadata": {},
   "outputs": [
    {
     "data": {
      "text/plain": [
       "\n",
       "Call:\n",
       "lm(formula = hours ~ log(wage) + nwifeinc, data = data)\n",
       "\n",
       "Residuals:\n",
       "    Min      1Q  Median      3Q     Max \n",
       "-1319.8  -665.7    50.4   596.8  3624.0 \n",
       "\n",
       "Coefficients:\n",
       "            Estimate Std. Error t value Pr(>|t|)    \n",
       "(Intercept) 1421.639     93.255  15.245   <2e-16 ***\n",
       "log(wage)     -5.608     52.420  -0.107   0.9149    \n",
       "nwifeinc      -5.916      3.579  -1.653   0.0991 .  \n",
       "---\n",
       "Signif. codes:  0 '***' 0.001 '**' 0.01 '*' 0.05 '.' 0.1 ' ' 1\n",
       "\n",
       "Residual standard error: 775.5 on 425 degrees of freedom\n",
       "Multiple R-squared:  0.006662,\tAdjusted R-squared:  0.001987 \n",
       "F-statistic: 1.425 on 2 and 425 DF,  p-value: 0.2416\n"
      ]
     },
     "metadata": {},
     "output_type": "display_data"
    },
    {
     "data": {
      "text/plain": [
       "\n",
       "t test of coefficients:\n",
       "\n",
       "             Estimate Std. Error t value Pr(>|t|)    \n",
       "(Intercept) 1421.6385   113.5653 12.5182  < 2e-16 ***\n",
       "log(wage)     -5.6082    75.2678 -0.0745  0.94064    \n",
       "nwifeinc      -5.9160     3.3373 -1.7727  0.07699 .  \n",
       "---\n",
       "Signif. codes:  0 '***' 0.001 '**' 0.01 '*' 0.05 '.' 0.1 ' ' 1\n"
      ]
     },
     "metadata": {},
     "output_type": "display_data"
    }
   ],
   "source": [
    "model = lm(hours ~ log(wage) + nwifeinc, data=data)\n",
    "summary(model)\n",
    "coeftest(model, vcov = vcovHC(model, type=\"HC1\"))"
   ]
  },
  {
   "cell_type": "markdown",
   "metadata": {},
   "source": [
    "B1: prosentin kasvu palkassa vähentää työntekoa noin 0.05 tuntia  \n",
    "B2: kun muiden perheen jäsenten kuin naisen tulot kasvavat vuodessa tuhannella vähentää nainen noin 6 tuntia työntekoaan\n",
    "\n",
    "Palkka on kaukana tilastollisesti merkitsevästä ja nwifeinc on 10% tasolla merkitsevä\n",
    "Huomion arvoista on erittäin matala selitysaste."
   ]
  },
  {
   "cell_type": "markdown",
   "metadata": {},
   "source": [
    "# c) \n",
    "\n",
    "Palkka sisältyy nwifeinc termiin joten sen vaikutus tulee malliin jo tätä kautta.\n",
    "\n",
    "\n"
   ]
  },
  {
   "cell_type": "markdown",
   "metadata": {},
   "source": [
    "## d)\n",
    "\n",
    "Lapsi aloittaa koulunkäynnin 6-7 seitsemän vuotiaana, joten äidillä on enemmän aikaa käydä töissä tämän jälkeen. \n",
    "Koulutuksen taas voidaan ajatella korreloivan työllistymismahdollisuuksien sekä palkan kanssa. Kouluttautunut nainen luultavasti löytää helpommin töitä ja paremmalla palkalla. Toisaalta ikä ja koulutus myös luultavasti korreloivat kumppanin iän ja koulutuksen kanssa jotka korreloivat perheen muiden tulojen (nwifeinc) kanssa. Esim korkeakoulutetun naisen kumppani on todennäköisemmin korkeakoulutettu ja hyvätuloinen, mikä vähentää naisen työnteon välttämättömyyttä perheen elättämisen kannalta."
   ]
  },
  {
   "cell_type": "code",
   "execution_count": 29,
   "metadata": {},
   "outputs": [
    {
     "data": {
      "text/plain": [
       "\n",
       "Call:\n",
       "lm(formula = hours ~ log(wage) + nwifeinc + kidslt6 + kidsge6 + \n",
       "    age + educ, data = data)\n",
       "\n",
       "Residuals:\n",
       "    Min      1Q  Median      3Q     Max \n",
       "-1590.6  -595.2    93.0   525.4  3553.5 \n",
       "\n",
       "Coefficients:\n",
       "            Estimate Std. Error t value Pr(>|t|)    \n",
       "(Intercept) 2114.697    340.131   6.217 1.22e-09 ***\n",
       "log(wage)    -17.408     54.215  -0.321 0.748305    \n",
       "nwifeinc      -4.246      3.656  -1.161 0.246144    \n",
       "kidslt6     -342.505    100.006  -3.425 0.000676 ***\n",
       "kidsge6     -115.021     30.829  -3.731 0.000217 ***\n",
       "age           -7.730      5.529  -1.398 0.162860    \n",
       "educ         -14.445     17.968  -0.804 0.421894    \n",
       "---\n",
       "Signif. codes:  0 '***' 0.001 '**' 0.01 '*' 0.05 '.' 0.1 ' ' 1\n",
       "\n",
       "Residual standard error: 755.2 on 421 degrees of freedom\n",
       "Multiple R-squared:  0.06696,\tAdjusted R-squared:  0.05366 \n",
       "F-statistic: 5.035 on 6 and 421 DF,  p-value: 5.305e-05\n"
      ]
     },
     "metadata": {},
     "output_type": "display_data"
    },
    {
     "data": {
      "text/plain": [
       "\n",
       "t test of coefficients:\n",
       "\n",
       "             Estimate Std. Error t value  Pr(>|t|)    \n",
       "(Intercept) 2114.6973   350.3186  6.0365 3.459e-09 ***\n",
       "log(wage)    -17.4078    81.3773 -0.2139 0.8307170    \n",
       "nwifeinc      -4.2458     3.2235 -1.3171 0.1885143    \n",
       "kidslt6     -342.5048   131.7733 -2.5992 0.0096725 ** \n",
       "kidsge6     -115.0205    29.5087 -3.8979 0.0001129 ***\n",
       "age           -7.7300     5.8497 -1.3214 0.1870724    \n",
       "educ         -14.4449    18.2129 -0.7931 0.4281602    \n",
       "---\n",
       "Signif. codes:  0 '***' 0.001 '**' 0.01 '*' 0.05 '.' 0.1 ' ' 1\n"
      ]
     },
     "metadata": {},
     "output_type": "display_data"
    }
   ],
   "source": [
    "model2 = lm(hours ~ log(wage) + nwifeinc + kidslt6 + kidsge6 + age + educ, data=data)\n",
    "summary(model2)\n",
    "coeftest(model2, vcov = vcovHC(model2, type=\"HC1\"))"
   ]
  },
  {
   "cell_type": "markdown",
   "metadata": {},
   "source": [
    "Palkan vaikutus noin kolminkertaistuu uudessa mallissa, mutta on yhä kaukana tilastollisesta merkittävyydestä. \n",
    "nwifeinc vähentyy hieman yli puolitoista ykikköä ja ei ole enää merkittävä edes 10% merkitsevyystasolla.\n"
   ]
  },
  {
   "cell_type": "code",
   "execution_count": 34,
   "metadata": {},
   "outputs": [
    {
     "data": {
      "text/html": [
       "<table>\n",
       "<caption>A anova: 2 × 4</caption>\n",
       "<thead>\n",
       "\t<tr><th></th><th scope=col>Res.Df</th><th scope=col>Df</th><th scope=col>F</th><th scope=col>Pr(&gt;F)</th></tr>\n",
       "\t<tr><th></th><th scope=col>&lt;dbl&gt;</th><th scope=col>&lt;dbl&gt;</th><th scope=col>&lt;dbl&gt;</th><th scope=col>&lt;dbl&gt;</th></tr>\n",
       "</thead>\n",
       "<tbody>\n",
       "\t<tr><th scope=row>1</th><td>423</td><td>NA</td><td>       NA</td><td>      NA</td></tr>\n",
       "\t<tr><th scope=row>2</th><td>421</td><td> 2</td><td>0.9064144</td><td>0.404757</td></tr>\n",
       "</tbody>\n",
       "</table>\n"
      ],
      "text/latex": [
       "A anova: 2 × 4\n",
       "\\begin{tabular}{r|llll}\n",
       "  & Res.Df & Df & F & Pr(>F)\\\\\n",
       "  & <dbl> & <dbl> & <dbl> & <dbl>\\\\\n",
       "\\hline\n",
       "\t1 & 423 & NA &        NA &       NA\\\\\n",
       "\t2 & 421 &  2 & 0.9064144 & 0.404757\\\\\n",
       "\\end{tabular}\n"
      ],
      "text/markdown": [
       "\n",
       "A anova: 2 × 4\n",
       "\n",
       "| <!--/--> | Res.Df &lt;dbl&gt; | Df &lt;dbl&gt; | F &lt;dbl&gt; | Pr(&gt;F) &lt;dbl&gt; |\n",
       "|---|---|---|---|---|\n",
       "| 1 | 423 | NA |        NA |       NA |\n",
       "| 2 | 421 |  2 | 0.9064144 | 0.404757 |\n",
       "\n"
      ],
      "text/plain": [
       "  Res.Df Df F         Pr(>F)  \n",
       "1 423    NA        NA       NA\n",
       "2 421     2 0.9064144 0.404757"
      ]
     },
     "metadata": {},
     "output_type": "display_data"
    }
   ],
   "source": [
    "linearHypothesis(model2, c(\"nwifeinc=0\", \"log(wage)=0\"), test=c(\"F\"),vcov = vcovHC(model2, type=\"HC1\"))"
   ]
  },
  {
   "cell_type": "markdown",
   "metadata": {},
   "source": [
    "Eivät ole yhdessäkään merkittäviä\n",
    "\n",
    "Tulkinnat:\n",
    "Naiset joilla alle 6v lapsia tekevät 340 tuntia vähemmän töitä yli 6v lasten vaikutus puolestaan on 115 tuntia\n",
    "Yksi ikävuosi vähentää noin 8 tuntia työntekoa ja yksi opiskeluvuosi 14 tuntia. \n",
    "Palkan ja nwifeinc tulkinnat ovat samat kuin aiemmin.\n",
    "\n",
    "## 4 a)"
   ]
  },
  {
   "cell_type": "code",
   "execution_count": 36,
   "metadata": {},
   "outputs": [
    {
     "data": {
      "image/png": "[encoded data removed]",
      "text/plain": [
       "plot without title"
      ]
     },
     "metadata": {
      "image/png": {
       "height": 420,
       "width": 420
      }
     },
     "output_type": "display_data"
    }
   ],
   "source": [
    "plot(data[,\"educ\"],data[,\"wage\"],\n",
    "   xlab=\"educ\", ylab=\"wage\")"
   ]
  },
  {
   "cell_type": "markdown",
   "metadata": {},
   "source": [
    "Koulutus nostaa tulotasoa, mutta vähenevästi. Kenties logaritminen yhteys.\n",
    "6 havaintioa jossa palkat ovat todella suuret ja selvästi etäällä saman koulutusasteen hgenkilöistä.\n",
    "Virhe näyttäisi kasvavan koulutetuimmilla havainnoilla, eli heteroskedastisuutta havaittavissa. \n",
    "## b)"
   ]
  },
  {
   "cell_type": "code",
   "execution_count": 37,
   "metadata": {},
   "outputs": [
    {
     "data": {
      "text/plain": [
       "\n",
       "Call:\n",
       "lm(formula = log(wage) ~ educ + age, data = data)\n",
       "\n",
       "Residuals:\n",
       "     Min       1Q   Median       3Q      Max \n",
       "-3.11805 -0.32595  0.08456  0.39848  2.14193 \n",
       "\n",
       "Coefficients:\n",
       "            Estimate Std. Error t value Pr(>|t|)    \n",
       "(Intercept) -0.48756    0.26390  -1.848   0.0654 .  \n",
       "educ         0.10985    0.01439   7.633 1.53e-13 ***\n",
       "age          0.00684    0.00426   1.606   0.1091    \n",
       "---\n",
       "Signif. codes:  0 '***' 0.001 '**' 0.01 '*' 0.05 '.' 0.1 ' ' 1\n",
       "\n",
       "Residual standard error: 0.6788 on 425 degrees of freedom\n",
       "Multiple R-squared:  0.1232,\tAdjusted R-squared:  0.1191 \n",
       "F-statistic: 29.86 on 2 and 425 DF,  p-value: 7.349e-13\n"
      ]
     },
     "metadata": {},
     "output_type": "display_data"
    },
    {
     "data": {
      "text/plain": [
       "\n",
       "t test of coefficients:\n",
       "\n",
       "              Estimate Std. Error t value  Pr(>|t|)    \n",
       "(Intercept) -0.4875591  0.2717203 -1.7943   0.07347 .  \n",
       "educ         0.1098543  0.0136980  8.0197 1.039e-14 ***\n",
       "age          0.0068403  0.0043524  1.5716   0.11678    \n",
       "---\n",
       "Signif. codes:  0 '***' 0.001 '**' 0.01 '*' 0.05 '.' 0.1 ' ' 1\n"
      ]
     },
     "metadata": {},
     "output_type": "display_data"
    }
   ],
   "source": [
    "model3 = lm(log(wage) ~ educ + age, data=data)\n",
    "summary(model3)\n",
    "coeftest(model3, vcov = vcovHC(model3, type=\"HC1\"))"
   ]
  },
  {
   "cell_type": "markdown",
   "metadata": {},
   "source": [
    "Yksi koulutusvuosi lisää tuoloja 10 prosentilla ja yksi ikävuosi 0.6 prosentilla.\n",
    "Iän vaikutus ei kuitenkaan ole tilastollisesti merkitsevä edes 10% tasolla\n",
    "## c)"
   ]
  },
  {
   "cell_type": "code",
   "execution_count": 38,
   "metadata": {},
   "outputs": [
    {
     "data": {
      "text/plain": [
       "\n",
       "Call:\n",
       "lm(formula = log(wage) ~ educ + age + exper, data = data)\n",
       "\n",
       "Residuals:\n",
       "     Min       1Q   Median       3Q      Max \n",
       "-3.05097 -0.30439  0.05568  0.39465  2.27811 \n",
       "\n",
       "Coefficients:\n",
       "             Estimate Std. Error t value Pr(>|t|)    \n",
       "(Intercept) -0.346937   0.263361  -1.317 0.188435    \n",
       "educ         0.109276   0.014201   7.695    1e-13 ***\n",
       "age         -0.001406   0.004802  -0.293 0.769758    \n",
       "exper        0.016325   0.004597   3.551 0.000426 ***\n",
       "---\n",
       "Signif. codes:  0 '***' 0.001 '**' 0.01 '*' 0.05 '.' 0.1 ' ' 1\n",
       "\n",
       "Residual standard error: 0.6697 on 424 degrees of freedom\n",
       "Multiple R-squared:  0.1485,\tAdjusted R-squared:  0.1425 \n",
       "F-statistic: 24.65 on 3 and 424 DF,  p-value: 1.009e-14\n"
      ]
     },
     "metadata": {},
     "output_type": "display_data"
    },
    {
     "data": {
      "text/plain": [
       "\n",
       "t test of coefficients:\n",
       "\n",
       "              Estimate Std. Error t value  Pr(>|t|)    \n",
       "(Intercept) -0.3469374  0.2742742 -1.2649  0.206592    \n",
       "educ         0.1092758  0.0133853  8.1639 3.744e-15 ***\n",
       "age         -0.0014064  0.0054753 -0.2569  0.797415    \n",
       "exper        0.0163246  0.0051530  3.1680  0.001646 ** \n",
       "---\n",
       "Signif. codes:  0 '***' 0.001 '**' 0.01 '*' 0.05 '.' 0.1 ' ' 1\n"
      ]
     },
     "metadata": {},
     "output_type": "display_data"
    }
   ],
   "source": [
    "model4 = lm(log(wage) ~ educ + age + exper, data=data)\n",
    "summary(model4)\n",
    "coeftest(model4, vcov = vcovHC(model4, type=\"HC1\"))"
   ]
  },
  {
   "cell_type": "markdown",
   "metadata": {},
   "source": [
    "Koulutuksen vaikutus säilyi samana mutta iän vaikutus muuttui negatiiviseksi ja erittäin vähäiseksi (vain 0.1%).\n",
    "Iän p-arvo on nyt myös hyvin suuri ja näyttää siltä ettei iällä ole vaikutusta palkaaan ollenkaan.\n",
    "Uusi parametri työkokemus sen sijaan on selkeästi tilastollisesti merkitsevä ja kertoo että vuosi työkokemusta lisää tuloja 1.6 prosenttia. Muutos johuu luultavasti iän ja työkokemuksen vahvasta keskinäisestä korrelaatiosta. Nyt kun työkokemuksen ja iän vaikutukset ovat iralliset näyttää että nimenomaan työkokemuksella on kausaalinen vaikutus tuloihin."
   ]
  },
  {
   "cell_type": "code",
   "execution_count": 40,
   "metadata": {},
   "outputs": [
    {
     "data": {
      "text/html": [
       "<table>\n",
       "<caption>A anova: 2 × 4</caption>\n",
       "<thead>\n",
       "\t<tr><th></th><th scope=col>Res.Df</th><th scope=col>Df</th><th scope=col>F</th><th scope=col>Pr(&gt;F)</th></tr>\n",
       "\t<tr><th></th><th scope=col>&lt;dbl&gt;</th><th scope=col>&lt;dbl&gt;</th><th scope=col>&lt;dbl&gt;</th><th scope=col>&lt;dbl&gt;</th></tr>\n",
       "</thead>\n",
       "<tbody>\n",
       "\t<tr><th scope=row>1</th><td>425</td><td>NA</td><td>      NA</td><td>        NA</td></tr>\n",
       "\t<tr><th scope=row>2</th><td>424</td><td> 1</td><td>3.427486</td><td>0.06481475</td></tr>\n",
       "</tbody>\n",
       "</table>\n"
      ],
      "text/latex": [
       "A anova: 2 × 4\n",
       "\\begin{tabular}{r|llll}\n",
       "  & Res.Df & Df & F & Pr(>F)\\\\\n",
       "  & <dbl> & <dbl> & <dbl> & <dbl>\\\\\n",
       "\\hline\n",
       "\t1 & 425 & NA &       NA &         NA\\\\\n",
       "\t2 & 424 &  1 & 3.427486 & 0.06481475\\\\\n",
       "\\end{tabular}\n"
      ],
      "text/markdown": [
       "\n",
       "A anova: 2 × 4\n",
       "\n",
       "| <!--/--> | Res.Df &lt;dbl&gt; | Df &lt;dbl&gt; | F &lt;dbl&gt; | Pr(&gt;F) &lt;dbl&gt; |\n",
       "|---|---|---|---|---|\n",
       "| 1 | 425 | NA |       NA |         NA |\n",
       "| 2 | 424 |  1 | 3.427486 | 0.06481475 |\n",
       "\n"
      ],
      "text/plain": [
       "  Res.Df Df F        Pr(>F)    \n",
       "1 425    NA       NA         NA\n",
       "2 424     1 3.427486 0.06481475"
      ]
     },
     "metadata": {},
     "output_type": "display_data"
    }
   ],
   "source": [
    "linearHypothesis(model4, c(\"exper=age\"), test=c(\"F\"),vcov = vcovHC(model4, type=\"HC1\"))"
   ]
  },
  {
   "cell_type": "markdown",
   "metadata": {},
   "source": [
    "10% merkitsevyystasolla voidaan nollahypotesi voidaan hylätä. \n",
    "## d)"
   ]
  },
  {
   "cell_type": "code",
   "execution_count": 44,
   "metadata": {},
   "outputs": [
    {
     "data": {
      "text/plain": [
       "\n",
       "Call:\n",
       "lm(formula = log(wage) ~ educ + age + exper + exper_squared, \n",
       "    data = data)\n",
       "\n",
       "Residuals:\n",
       "     Min       1Q   Median       3Q      Max \n",
       "-3.08521 -0.30587  0.04946  0.37523  2.37077 \n",
       "\n",
       "Coefficients:\n",
       "                Estimate Std. Error t value Pr(>|t|)    \n",
       "(Intercept)   -0.5333761  0.2778430  -1.920  0.05557 .  \n",
       "educ           0.1075228  0.0141745   7.586 2.12e-13 ***\n",
       "age            0.0002836  0.0048553   0.058  0.95344    \n",
       "exper          0.0415623  0.0131909   3.151  0.00174 ** \n",
       "exper_squared -0.0008152  0.0003996  -2.040  0.04195 *  \n",
       "---\n",
       "Signif. codes:  0 '***' 0.001 '**' 0.01 '*' 0.05 '.' 0.1 ' ' 1\n",
       "\n",
       "Residual standard error: 0.6672 on 423 degrees of freedom\n",
       "Multiple R-squared:  0.1568,\tAdjusted R-squared:  0.1489 \n",
       "F-statistic: 19.67 on 4 and 423 DF,  p-value: 7.328e-15\n"
      ]
     },
     "metadata": {},
     "output_type": "display_data"
    },
    {
     "data": {
      "text/plain": [
       "\n",
       "t test of coefficients:\n",
       "\n",
       "                 Estimate  Std. Error t value  Pr(>|t|)    \n",
       "(Intercept)   -0.53337609  0.28766252 -1.8542  0.064410 .  \n",
       "educ           0.10752278  0.01330455  8.0817 6.765e-15 ***\n",
       "age            0.00028365  0.00543793  0.0522  0.958425    \n",
       "exper          0.04156233  0.01530424  2.7157  0.006884 ** \n",
       "exper_squared -0.00081518  0.00041354 -1.9712  0.049350 *  \n",
       "---\n",
       "Signif. codes:  0 '***' 0.001 '**' 0.01 '*' 0.05 '.' 0.1 ' ' 1\n"
      ]
     },
     "metadata": {},
     "output_type": "display_data"
    }
   ],
   "source": [
    "exper_squared = (data$exper)^2\n",
    "model5 = lm(log(wage) ~ educ + age + exper + exper_squared, data=data)\n",
    "summary(model5)\n",
    "coeftest(model5, vcov = vcovHC(model5, type=\"HC1\"))"
   ]
  },
  {
   "cell_type": "markdown",
   "metadata": {},
   "source": [
    "Tuloksista voidaan päätellä että tulotaso kasvaa kokemuksen myötä mutta vähenevästi (kokemuksen neliöity termi negatiivinen -> toinen derivaatta negatiivinen). Neliöidyn termin kerroin on tilastollisesti merkitsevä voidaankin siis todeta kokemuksen ja palkan yhteyden olevan epälineaarinen.\n",
    "## e)"
   ]
  },
  {
   "cell_type": "code",
   "execution_count": 45,
   "metadata": {},
   "outputs": [
    {
     "data": {
      "image/png": "[encoded data removed]",
      "text/plain": [
       "plot without title"
      ]
     },
     "metadata": {
      "image/png": {
       "height": 420,
       "width": 420
      }
     },
     "output_type": "display_data"
    }
   ],
   "source": [
    "plot(data[,\"exper\"],data[,\"wage\"],\n",
    "   xlab=\"exper\", ylab=\"wage\")"
   ]
  },
  {
   "cell_type": "code",
   "execution_count": 10,
   "metadata": {},
   "outputs": [
    {
     "data": {
      "text/plain": [
       "\n",
       "Call:\n",
       "lm(formula = log(wage) ~ exper + educ + educ * exper, data = data)\n",
       "\n",
       "Residuals:\n",
       "     Min       1Q   Median       3Q      Max \n",
       "-3.05326 -0.30923  0.05849  0.39072  2.27064 \n",
       "\n",
       "Coefficients:\n",
       "              Estimate Std. Error t value Pr(>|t|)    \n",
       "(Intercept) -0.2982132  0.3407798  -0.875 0.382020    \n",
       "exper        0.0078755  0.0219786   0.358 0.720279    \n",
       "educ         0.1013038  0.0267484   3.787 0.000174 ***\n",
       "exper:educ   0.0006271  0.0017376   0.361 0.718353    \n",
       "---\n",
       "Signif. codes:  0 '***' 0.001 '**' 0.01 '*' 0.05 '.' 0.1 ' ' 1\n",
       "\n",
       "Residual standard error: 0.6697 on 424 degrees of freedom\n",
       "Multiple R-squared:  0.1486,\tAdjusted R-squared:  0.1426 \n",
       "F-statistic: 24.67 on 3 and 424 DF,  p-value: 9.871e-15\n"
      ]
     },
     "metadata": {},
     "output_type": "display_data"
    },
    {
     "data": {
      "text/plain": [
       "\n",
       "t test of coefficients:\n",
       "\n",
       "               Estimate  Std. Error t value  Pr(>|t|)    \n",
       "(Intercept) -0.29821323  0.35075709 -0.8502 0.3956944    \n",
       "exper        0.00787548  0.01951239  0.4036 0.6866996    \n",
       "educ         0.10130377  0.02756669  3.6749 0.0002685 ***\n",
       "exper:educ   0.00062709  0.00154610  0.4056 0.6852465    \n",
       "---\n",
       "Signif. codes:  0 '***' 0.001 '**' 0.01 '*' 0.05 '.' 0.1 ' ' 1\n"
      ]
     },
     "metadata": {},
     "output_type": "display_data"
    }
   ],
   "source": [
    "model6 = lm(log(wage) ~ exper + educ + educ*exper, data=data)\n",
    "summary(model6)\n",
    "coeftest(model6, vcov = vcovHC(model6, type=\"HC1\"))\n"
   ]
  },
  {
   "cell_type": "markdown",
   "metadata": {},
   "source": [
    "Exper ja educ tulkinnat ovat samat kuin aiemmin. exper:educ kuvaa nyt sitä kuinka ison lisävaikutuksen työkokemus tuo koulutuksen vaikuttavuuteen. Eli koulutus nostaa palkkaa (10 + 0.06*kokemus) prosenttia."
   ]
  },
  {
   "cell_type": "code",
   "execution_count": 11,
   "metadata": {},
   "outputs": [
    {
     "data": {
      "text/html": [
       "<table>\n",
       "<caption>A anova: 2 × 4</caption>\n",
       "<thead>\n",
       "\t<tr><th></th><th scope=col>Res.Df</th><th scope=col>Df</th><th scope=col>F</th><th scope=col>Pr(&gt;F)</th></tr>\n",
       "\t<tr><th></th><th scope=col>&lt;dbl&gt;</th><th scope=col>&lt;dbl&gt;</th><th scope=col>&lt;dbl&gt;</th><th scope=col>&lt;dbl&gt;</th></tr>\n",
       "</thead>\n",
       "<tbody>\n",
       "\t<tr><th scope=row>1</th><td>426</td><td>NA</td><td>      NA</td><td>          NA</td></tr>\n",
       "\t<tr><th scope=row>2</th><td>424</td><td> 2</td><td>7.386484</td><td>0.0007026041</td></tr>\n",
       "</tbody>\n",
       "</table>\n"
      ],
      "text/latex": [
       "A anova: 2 × 4\n",
       "\\begin{tabular}{r|llll}\n",
       "  & Res.Df & Df & F & Pr(>F)\\\\\n",
       "  & <dbl> & <dbl> & <dbl> & <dbl>\\\\\n",
       "\\hline\n",
       "\t1 & 426 & NA &       NA &           NA\\\\\n",
       "\t2 & 424 &  2 & 7.386484 & 0.0007026041\\\\\n",
       "\\end{tabular}\n"
      ],
      "text/markdown": [
       "\n",
       "A anova: 2 × 4\n",
       "\n",
       "| <!--/--> | Res.Df &lt;dbl&gt; | Df &lt;dbl&gt; | F &lt;dbl&gt; | Pr(&gt;F) &lt;dbl&gt; |\n",
       "|---|---|---|---|---|\n",
       "| 1 | 426 | NA |       NA |           NA |\n",
       "| 2 | 424 |  2 | 7.386484 | 0.0007026041 |\n",
       "\n"
      ],
      "text/plain": [
       "  Res.Df Df F        Pr(>F)      \n",
       "1 426    NA       NA           NA\n",
       "2 424     2 7.386484 0.0007026041"
      ]
     },
     "metadata": {},
     "output_type": "display_data"
    }
   ],
   "source": [
    "linearHypothesis(model6, c(\"exper:educ = 0\", \"exper=0\"), test=c(\"F\"),vcov = vcovHC(model6, type=\"HC1\"))"
   ]
  },
  {
   "cell_type": "markdown",
   "metadata": {},
   "source": [
    "Nolla hypoteesi hylätään eli työkokemuksella on merkitystä koulutksen vaikutukseen palkaan. "
   ]
  }
 ],
 "metadata": {
  "kernelspec": {
   "display_name": "R",
   "language": "R",
   "name": "ir"
  },
  "language_info": {
   "codemirror_mode": "r",
   "file_extension": ".r",
   "mimetype": "text/x-r-source",
   "name": "R",
   "pygments_lexer": "r",
   "version": "4.0.2"
  }
 },
 "nbformat": 4,
 "nbformat_minor": 4
}
